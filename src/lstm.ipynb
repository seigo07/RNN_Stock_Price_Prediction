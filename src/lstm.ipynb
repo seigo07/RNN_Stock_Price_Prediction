{
 "cells": [
  {
   "cell_type": "code",
   "execution_count": 74,
   "outputs": [
    {
     "name": "stdout",
     "output_type": "stream",
     "text": [
      "[*********************100%***********************]  1 of 1 completed\n"
     ]
    },
    {
     "ename": "NameError",
     "evalue": "name 'split_data' is not defined",
     "output_type": "error",
     "traceback": [
      "\u001B[0;31m---------------------------------------------------------------------------\u001B[0m",
      "\u001B[0;31mNameError\u001B[0m                                 Traceback (most recent call last)",
      "Cell \u001B[0;32mIn[74], line 21\u001B[0m\n\u001B[1;32m     19\u001B[0m \u001B[38;5;66;03m# dataset, data = clean_data(dataset)\u001B[39;00m\n\u001B[1;32m     20\u001B[0m data \u001B[38;5;241m=\u001B[39m []\n\u001B[0;32m---> 21\u001B[0m train_data, test_data, scaler \u001B[38;5;241m=\u001B[39m \u001B[43msplit_data\u001B[49m(data)\n\u001B[1;32m     23\u001B[0m \u001B[38;5;66;03m# Define sequence length\u001B[39;00m\n\u001B[1;32m     24\u001B[0m sequence_length \u001B[38;5;241m=\u001B[39m \u001B[38;5;241m20\u001B[39m\n",
      "\u001B[0;31mNameError\u001B[0m: name 'split_data' is not defined"
     ]
    }
   ],
   "source": [
    "import random\n",
    "import warnings\n",
    "import tensorflow as tf\n",
    "from functions import *\n",
    "\n",
    "warnings.simplefilter(\"ignore\")\n",
    "\n",
    "SEED_VALUE = 42\n",
    "np.random.seed(SEED_VALUE)\n",
    "random.seed(SEED_VALUE)\n",
    "tf.random.set_seed(SEED_VALUE)\n",
    "\n",
    "ticker = \"AAPL\"\n",
    "dataset = load_data(ticker)\n",
    "dataset, data = clean_data(dataset)\n",
    "train_data, test_data, scaler = split_data(data)\n",
    "\n",
    "# Define sequence length\n",
    "sequence_length = 20\n",
    "\n",
    "# Create sequences for LSTM models\n",
    "X_train, y_train = create_dataset(train_data, sequence_length)\n",
    "X_test, y_test = create_dataset(test_data, sequence_length)\n",
    "\n",
    "# Build and train the LSTM model with best hyperparameters using the entire training data\n",
    "best_params = get_best_params(X_train, y_train, tf, sequence_length, scaler)\n",
    "lstm_model = build_lstm_model(tf, sequence_length, lr=best_params['learning_rate'], initializer=best_params['initializer'], loss_function=best_params['loss_function'])\n",
    "lstm_model.fit(X_train, y_train, epochs=best_params['epochs'], batch_size=best_params['batch_size'], verbose=1)\n",
    "\n",
    "# Generate predictions for the LSTM model\n",
    "lstm_predictions = lstm_model.predict(X_test)\n",
    "\n",
    "# Generate naive predictions (using the last value in the training set)\n",
    "naive_predictions = np.full_like(y_test, y_train[-1])\n",
    "\n",
    "print_metrics(y_test, lstm_predictions, naive_predictions)\n",
    "\n",
    "lstm_predictions_list = lstm_predictions.flatten().tolist()\n",
    "\n",
    "one_year_data, one_year_data_2d, lstm_predictions_one_year = get_one_year_data(dataset, sequence_length, scaler, lstm_model)\n",
    "\n",
    "print_trading_result(one_year_data, one_year_data_2d, lstm_predictions_one_year, sequence_length)\n",
    "\n",
    "plot_trading_result(one_year_data, one_year_data_2d, lstm_predictions_one_year, sequence_length, ticker, \"LSTM\")"
   ],
   "metadata": {
    "collapsed": false,
    "ExecuteTime": {
     "end_time": "2023-08-07T20:32:42.679708Z",
     "start_time": "2023-08-07T20:32:42.437544Z"
    }
   }
  },
  {
   "cell_type": "code",
   "execution_count": 75,
   "outputs": [],
   "source": [],
   "metadata": {
    "collapsed": false,
    "ExecuteTime": {
     "end_time": "2023-07-25T16:54:48.394176Z",
     "start_time": "2023-07-25T16:54:48.374474Z"
    }
   }
  }
 ],
 "metadata": {
  "kernelspec": {
   "display_name": "Python 3",
   "language": "python",
   "name": "python3"
  },
  "language_info": {
   "codemirror_mode": {
    "name": "ipython",
    "version": 2
   },
   "file_extension": ".py",
   "mimetype": "text/x-python",
   "name": "python",
   "nbconvert_exporter": "python",
   "pygments_lexer": "ipython2",
   "version": "2.7.6"
  }
 },
 "nbformat": 4,
 "nbformat_minor": 0
}
